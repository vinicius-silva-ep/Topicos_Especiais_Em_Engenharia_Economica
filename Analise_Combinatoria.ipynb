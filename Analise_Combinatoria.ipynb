{
  "nbformat": 4,
  "nbformat_minor": 0,
  "metadata": {
    "colab": {
      "provenance": [],
      "collapsed_sections": [],
      "include_colab_link": true
    },
    "kernelspec": {
      "name": "python3",
      "display_name": "Python 3"
    },
    "language_info": {
      "name": "python"
    }
  },
  "cells": [
    {
      "cell_type": "markdown",
      "metadata": {
        "id": "view-in-github",
        "colab_type": "text"
      },
      "source": [
        "<a href=\"https://colab.research.google.com/github/viniscera/Topicos_Especiais_Em_Engenharia_Economica/blob/main/Analise_Combinatoria.ipynb\" target=\"_parent\"><img src=\"https://colab.research.google.com/assets/colab-badge.svg\" alt=\"Open In Colab\"/></a>"
      ]
    },
    {
      "cell_type": "markdown",
      "source": [
        "Use o Python e a biblioteca Sympy para resolver os exemplos abaixo do livro:"
      ],
      "metadata": {
        "id": "4wUpHa8gF6En"
      }
    },
    {
      "cell_type": "code",
      "source": [
        "from sympy import *\n",
        "init_printing(use_unicode=True)"
      ],
      "metadata": {
        "id": "sMg9r7WGHxO3"
      },
      "execution_count": null,
      "outputs": []
    },
    {
      "cell_type": "markdown",
      "source": [
        "Exemplo 2a"
      ],
      "metadata": {
        "id": "XDMK67ZRGMV8"
      }
    },
    {
      "cell_type": "code",
      "source": [
        "# O número de escolhas possíveis é: \")\n",
        "10*3"
      ],
      "metadata": {
        "colab": {
          "base_uri": "https://localhost:8080/",
          "height": 37
        },
        "id": "COkY3uc_GLgi",
        "outputId": "91b43e95-2160-4f04-c5c8-2894cfc1ae44"
      },
      "execution_count": null,
      "outputs": [
        {
          "output_type": "execute_result",
          "data": {
            "text/plain": [
              "30"
            ],
            "image/png": "[encoded data removed]",
            "text/latex": "$\\displaystyle 30$"
          },
          "metadata": {},
          "execution_count": 139
        }
      ]
    },
    {
      "cell_type": "markdown",
      "source": [
        "Exemplo 2b"
      ],
      "metadata": {
        "id": "CDfGc8y-HzzT"
      }
    },
    {
      "cell_type": "code",
      "source": [
        "# O número de subcomitês diferentes possíveis é de: \")\n",
        "3*4*5*2"
      ],
      "metadata": {
        "id": "tyanOQXWH36z",
        "colab": {
          "base_uri": "https://localhost:8080/",
          "height": 37
        },
        "outputId": "036989a6-e26a-4084-df9e-a32ed6085894"
      },
      "execution_count": null,
      "outputs": [
        {
          "output_type": "execute_result",
          "data": {
            "text/plain": [
              "120"
            ],
            "image/png": "[encoded data removed]",
            "text/latex": "$\\displaystyle 120$"
          },
          "metadata": {},
          "execution_count": 140
        }
      ]
    },
    {
      "cell_type": "markdown",
      "source": [
        "Exemplo 2c"
      ],
      "metadata": {
        "id": "gEo9j8KJH5Jq"
      }
    },
    {
      "cell_type": "code",
      "execution_count": null,
      "metadata": {
        "id": "W7uMLQoWFyYY",
        "colab": {
          "base_uri": "https://localhost:8080/",
          "height": 37
        },
        "outputId": "80036049-32f0-43ba-d0cc-c2ebe2730a0c"
      },
      "outputs": [
        {
          "output_type": "execute_result",
          "data": {
            "text/plain": [
              "175760000"
            ],
            "image/png": "[encoded data removed]",
            "text/latex": "$\\displaystyle 175760000$"
          },
          "metadata": {},
          "execution_count": 141
        }
      ],
      "source": [
        "# A quantidade de diferentes placas de automóvel é de:\n",
        "(26**3)*(10**4)\n"
      ]
    },
    {
      "cell_type": "markdown",
      "source": [
        "Exemplo 2e"
      ],
      "metadata": {
        "id": "T5DUmU8WH9Xv"
      }
    },
    {
      "cell_type": "code",
      "source": [
        "# A quantidade de placas de automóvel disponíveis caso a repetição entre letras ou números fosse proibida é de:\n",
        "(26*25*24)*10*9*8*7\n"
      ],
      "metadata": {
        "id": "2ROHtimmIHZM",
        "colab": {
          "base_uri": "https://localhost:8080/",
          "height": 37
        },
        "outputId": "4f3ded51-a949-4ca3-b9be-c8338f6106dc"
      },
      "execution_count": null,
      "outputs": [
        {
          "output_type": "execute_result",
          "data": {
            "text/plain": [
              "78624000"
            ],
            "image/png": "[encoded data removed]",
            "text/latex": "$\\displaystyle 78624000$"
          },
          "metadata": {},
          "execution_count": 142
        }
      ]
    },
    {
      "cell_type": "markdown",
      "source": [
        "Exemplo 3a"
      ],
      "metadata": {
        "id": "xV58ZUYZIIBo"
      }
    },
    {
      "cell_type": "code",
      "source": [
        "# Número de rebatedores possíveis\n",
        "factorial(9)"
      ],
      "metadata": {
        "id": "adICUaFZINwr",
        "colab": {
          "base_uri": "https://localhost:8080/",
          "height": 37
        },
        "outputId": "504cc5e7-b184-406d-bb58-cfdddb3c46e6"
      },
      "execution_count": null,
      "outputs": [
        {
          "output_type": "execute_result",
          "data": {
            "text/plain": [
              "362880"
            ],
            "image/png": "[encoded data removed]",
            "text/latex": "$\\displaystyle 362880$"
          },
          "metadata": {},
          "execution_count": 143
        }
      ]
    },
    {
      "cell_type": "markdown",
      "source": [
        "Exemplo 3b"
      ],
      "metadata": {
        "id": "A8YBr2BRIOdT"
      }
    },
    {
      "cell_type": "code",
      "source": [
        "# a) Como cada classificação corresponde a um arranjo particular das 10 pessoas, a resposta é:\n",
        "factorial(10)"
      ],
      "metadata": {
        "id": "xX_5usDfISE4",
        "colab": {
          "base_uri": "https://localhost:8080/",
          "height": 37
        },
        "outputId": "439e6497-cd47-47fc-9b7b-14b584aad545"
      },
      "execution_count": null,
      "outputs": [
        {
          "output_type": "execute_result",
          "data": {
            "text/plain": [
              "3628800"
            ],
            "image/png": "[encoded data removed]",
            "text/latex": "$\\displaystyle 3628800$"
          },
          "metadata": {},
          "execution_count": 144
        }
      ]
    },
    {
      "cell_type": "code",
      "source": [
        "# b) Como há 6! possíveis classificações dos homens entre si e 4! classificações possíveis das mulheres entre si, segue do princípio básico:\n",
        "factorial(6)*factorial(4)"
      ],
      "metadata": {
        "colab": {
          "base_uri": "https://localhost:8080/",
          "height": 37
        },
        "id": "0Btb0X_pHkkU",
        "outputId": "37033454-ba8e-4bc1-ac66-2fd29ffcba46"
      },
      "execution_count": null,
      "outputs": [
        {
          "output_type": "execute_result",
          "data": {
            "text/plain": [
              "17280"
            ],
            "image/png": "[encoded data removed]",
            "text/latex": "$\\displaystyle 17280$"
          },
          "metadata": {},
          "execution_count": 145
        }
      ]
    },
    {
      "cell_type": "markdown",
      "source": [
        "Exemplo 3c"
      ],
      "metadata": {
        "id": "G95EthNgIURT"
      }
    },
    {
      "cell_type": "code",
      "source": [
        "# Como há 4! possíveis ordens de assuntps, a resposta desejada é:\n",
        "factorial(4)*factorial(4)*factorial(3)*factorial(2)*factorial(1)"
      ],
      "metadata": {
        "id": "lxEL-IPTIV_m",
        "colab": {
          "base_uri": "https://localhost:8080/",
          "height": 37
        },
        "outputId": "2b6132ca-16ef-4835-df76-c9a52f58974a"
      },
      "execution_count": null,
      "outputs": [
        {
          "output_type": "execute_result",
          "data": {
            "text/plain": [
              "6912"
            ],
            "image/png": "[encoded data removed]",
            "text/latex": "$\\displaystyle 6912$"
          },
          "metadata": {},
          "execution_count": 146
        }
      ]
    },
    {
      "cell_type": "markdown",
      "source": [
        "Exemplo 3e"
      ],
      "metadata": {
        "id": "TKdYI3NDIWxM"
      }
    },
    {
      "cell_type": "code",
      "source": [
        "# A quantidade de resultados possíveis é de:\n",
        "factorial(10)/(factorial(4)*factorial(3)*factorial(2)*factorial(1))"
      ],
      "metadata": {
        "id": "ox9YwsolIe0i",
        "colab": {
          "base_uri": "https://localhost:8080/",
          "height": 37
        },
        "outputId": "8278051f-f7d2-471c-b63b-69d5245582f0"
      },
      "execution_count": null,
      "outputs": [
        {
          "output_type": "execute_result",
          "data": {
            "text/plain": [
              "12600"
            ],
            "image/png": "[encoded data removed]",
            "text/latex": "$\\displaystyle 12600$"
          },
          "metadata": {},
          "execution_count": 147
        }
      ]
    },
    {
      "cell_type": "markdown",
      "source": [
        "Exemplo 3f"
      ],
      "metadata": {
        "id": "xNuotwP2IfU4"
      }
    },
    {
      "cell_type": "code",
      "source": [
        "# O valor de sinais diferentes é de:\n",
        "factorial(9)/(factorial(4)*factorial(3)*factorial(2))"
      ],
      "metadata": {
        "id": "oLu8FL5IIjsZ",
        "colab": {
          "base_uri": "https://localhost:8080/",
          "height": 37
        },
        "outputId": "d7d48e90-e7fb-434f-ebe8-7b24302475e6"
      },
      "execution_count": null,
      "outputs": [
        {
          "output_type": "execute_result",
          "data": {
            "text/plain": [
              "1260"
            ],
            "image/png": "[encoded data removed]",
            "text/latex": "$\\displaystyle 1260$"
          },
          "metadata": {},
          "execution_count": 148
        }
      ]
    },
    {
      "cell_type": "markdown",
      "source": [
        "Exemplo 4a"
      ],
      "metadata": {
        "id": "RODu33tCIkSo"
      }
    },
    {
      "cell_type": "code",
      "source": [
        "# A quantidade de comitês possíveis é de:\n",
        "binomial(20,3)"
      ],
      "metadata": {
        "id": "BhE45z8NIqID",
        "colab": {
          "base_uri": "https://localhost:8080/",
          "height": 37
        },
        "outputId": "5db457d3-d0df-47cd-e929-8f1b20c90372"
      },
      "execution_count": null,
      "outputs": [
        {
          "output_type": "execute_result",
          "data": {
            "text/plain": [
              "1140"
            ],
            "image/png": "[encoded data removed]",
            "text/latex": "$\\displaystyle 1140$"
          },
          "metadata": {},
          "execution_count": 149
        }
      ]
    },
    {
      "cell_type": "markdown",
      "source": [
        "Exemplo 4b"
      ],
      "metadata": {
        "id": "b9lxi2dnIq5g"
      }
    },
    {
      "cell_type": "code",
      "source": [
        "# O princípio básico diz que há um total de comitês possíveis formados por duas mulheres e três homens:\n",
        "binomial(5,2)*binomial(7,3)"
      ],
      "metadata": {
        "id": "rNYkWb6xJAPL",
        "colab": {
          "base_uri": "https://localhost:8080/",
          "height": 37
        },
        "outputId": "c53ca456-10d3-49e6-f870-bec3b96193ad"
      },
      "execution_count": null,
      "outputs": [
        {
          "output_type": "execute_result",
          "data": {
            "text/plain": [
              "350"
            ],
            "image/png": "[encoded data removed]",
            "text/latex": "$\\displaystyle 350$"
          },
          "metadata": {},
          "execution_count": 150
        }
      ]
    },
    {
      "cell_type": "code",
      "source": [
        "# Supondo que dois dos homens se recusem a trabalhar juntos, o valor que não contém ambos os homens é de:\n",
        "binomial(7,3)-(binomial(2,2)*binomial(5,1))"
      ],
      "metadata": {
        "colab": {
          "base_uri": "https://localhost:8080/",
          "height": 37
        },
        "id": "mQMVvgtmJgmu",
        "outputId": "84b0e859-7ad8-4e78-d542-9bfdcb16354a"
      },
      "execution_count": null,
      "outputs": [
        {
          "output_type": "execute_result",
          "data": {
            "text/plain": [
              "30"
            ],
            "image/png": "[encoded data removed]",
            "text/latex": "$\\displaystyle 30$"
          },
          "metadata": {},
          "execution_count": 151
        }
      ]
    },
    {
      "cell_type": "code",
      "source": [
        "# Como há ainda maneiras de escolher as duas mulheres, supomos que a quantidade de comitês possíveis nesse caso é de:\n",
        "(binomial(7,3)-(binomial(2,2)*binomial(5,1)))*binomial(5,2)"
      ],
      "metadata": {
        "colab": {
          "base_uri": "https://localhost:8080/",
          "height": 37
        },
        "id": "4VcWlORKKUae",
        "outputId": "9c4bff23-1846-41ba-f97f-4d1ae15d613b"
      },
      "execution_count": null,
      "outputs": [
        {
          "output_type": "execute_result",
          "data": {
            "text/plain": [
              "300"
            ],
            "image/png": "[encoded data removed]",
            "text/latex": "$\\displaystyle 300$"
          },
          "metadata": {},
          "execution_count": 152
        }
      ]
    },
    {
      "cell_type": "markdown",
      "source": [
        "Exemplo 5a"
      ],
      "metadata": {
        "id": "7YwzyJThJAzm"
      }
    },
    {
      "cell_type": "code",
      "source": [
        "# A quantidade de divisões possíveis nos três grupos é de:\n",
        "factorial(10)/(factorial(5)*factorial(2)*factorial(3))"
      ],
      "metadata": {
        "id": "S2urbmwRJEsf",
        "colab": {
          "base_uri": "https://localhost:8080/",
          "height": 37
        },
        "outputId": "f09cc99b-0898-4838-eda1-5440a7cf16dd"
      },
      "execution_count": null,
      "outputs": [
        {
          "output_type": "execute_result",
          "data": {
            "text/plain": [
              "2520"
            ],
            "image/png": "[encoded data removed]",
            "text/latex": "$\\displaystyle 2520$"
          },
          "metadata": {},
          "execution_count": 153
        }
      ]
    },
    {
      "cell_type": "markdown",
      "source": [
        "Exemplo 5b"
      ],
      "metadata": {
        "id": "ndIkluWDJFRD"
      }
    },
    {
      "cell_type": "code",
      "source": [
        "# As divisões diferentes possíveis é de:\n",
        "factorial(10)/(factorial(5)*factorial(5))"
      ],
      "metadata": {
        "id": "UPFg34AEJKmo",
        "colab": {
          "base_uri": "https://localhost:8080/",
          "height": 37
        },
        "outputId": "a75be8ff-01b1-41f9-ef08-e3e71294070d"
      },
      "execution_count": null,
      "outputs": [
        {
          "output_type": "execute_result",
          "data": {
            "text/plain": [
              "252"
            ],
            "image/png": "[encoded data removed]",
            "text/latex": "$\\displaystyle 252$"
          },
          "metadata": {},
          "execution_count": 154
        }
      ]
    },
    {
      "cell_type": "markdown",
      "source": [
        "Exemplo 5c"
      ],
      "metadata": {
        "id": "KoS6sXwjJN7V"
      }
    },
    {
      "cell_type": "code",
      "source": [
        "# As divisões diferentes possíveis nesse caso é de:\n",
        "(factorial(10)/(factorial(5)*factorial(5))/factorial(2))"
      ],
      "metadata": {
        "id": "MDddvms2JPq5",
        "colab": {
          "base_uri": "https://localhost:8080/",
          "height": 37
        },
        "outputId": "cce56fce-ca90-433d-b50e-d90a47dd916d"
      },
      "execution_count": null,
      "outputs": [
        {
          "output_type": "execute_result",
          "data": {
            "text/plain": [
              "126"
            ],
            "image/png": "[encoded data removed]",
            "text/latex": "$\\displaystyle 126$"
          },
          "metadata": {},
          "execution_count": 155
        }
      ]
    }
  ]
}